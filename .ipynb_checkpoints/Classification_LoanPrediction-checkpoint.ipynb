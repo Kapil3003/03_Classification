{
 "cells": [
  {
   "cell_type": "markdown",
   "id": "5d180f79",
   "metadata": {},
   "source": [
    "# Classification Loan Status\n",
    "we are going to work on binary classification problem, where we got some information about sample of peoples, and we need to predict whether we should give someone a loan or not depending on personal information. \n",
    "\n",
    "Our Dataset is very small(614) entries, so we wont be focusing on building the accurate prediction model.\n",
    "\n",
    "\n",
    "The aim of this project is to\n",
    "1. Practice EDA and Feature Engineering for classifier model\n",
    "1. Learn and explore different classifier models and performance matrices.\n",
    "2. How to build robust models using k-fold cross validation. \n",
    "3. Learn how to deploy these machine learning models using pickle in webapplication\n",
    "4. Practice web application developmennt and deployment.\n",
    "\n",
    "Dataset - https://www.kaggle.com/datasets/altruistdelhite04/loan-prediction-problem-dataset?select=train_u6lujuX_CVtuZ9i.csv"
   ]
  },
  {
   "cell_type": "code",
   "execution_count": 1,
   "id": "de444560",
   "metadata": {},
   "outputs": [],
   "source": [
    "import pandas as pd\n",
    "import numpy as np\n",
    "import matplotlib.pyplot as plt\n",
    "import seaborn as sns\n",
    "import warnings\n",
    "warnings.filterwarnings('ignore')"
   ]
  },
  {
   "cell_type": "code",
   "execution_count": 2,
   "id": "69aa2546",
   "metadata": {},
   "outputs": [
    {
     "data": {
      "text/html": [
       "<div>\n",
       "<style scoped>\n",
       "    .dataframe tbody tr th:only-of-type {\n",
       "        vertical-align: middle;\n",
       "    }\n",
       "\n",
       "    .dataframe tbody tr th {\n",
       "        vertical-align: top;\n",
       "    }\n",
       "\n",
       "    .dataframe thead th {\n",
       "        text-align: right;\n",
       "    }\n",
       "</style>\n",
       "<table border=\"1\" class=\"dataframe\">\n",
       "  <thead>\n",
       "    <tr style=\"text-align: right;\">\n",
       "      <th></th>\n",
       "      <th>Loan_ID</th>\n",
       "      <th>Gender</th>\n",
       "      <th>Married</th>\n",
       "      <th>Dependents</th>\n",
       "      <th>Education</th>\n",
       "      <th>Self_Employed</th>\n",
       "      <th>ApplicantIncome</th>\n",
       "      <th>CoapplicantIncome</th>\n",
       "      <th>LoanAmount</th>\n",
       "      <th>Loan_Amount_Term</th>\n",
       "      <th>Credit_History</th>\n",
       "      <th>Property_Area</th>\n",
       "      <th>Loan_Status</th>\n",
       "    </tr>\n",
       "  </thead>\n",
       "  <tbody>\n",
       "    <tr>\n",
       "      <th>0</th>\n",
       "      <td>LP001002</td>\n",
       "      <td>Male</td>\n",
       "      <td>No</td>\n",
       "      <td>0</td>\n",
       "      <td>Graduate</td>\n",
       "      <td>No</td>\n",
       "      <td>5849</td>\n",
       "      <td>0.0</td>\n",
       "      <td>NaN</td>\n",
       "      <td>360.0</td>\n",
       "      <td>1.0</td>\n",
       "      <td>Urban</td>\n",
       "      <td>Y</td>\n",
       "    </tr>\n",
       "    <tr>\n",
       "      <th>1</th>\n",
       "      <td>LP001003</td>\n",
       "      <td>Male</td>\n",
       "      <td>Yes</td>\n",
       "      <td>1</td>\n",
       "      <td>Graduate</td>\n",
       "      <td>No</td>\n",
       "      <td>4583</td>\n",
       "      <td>1508.0</td>\n",
       "      <td>128.0</td>\n",
       "      <td>360.0</td>\n",
       "      <td>1.0</td>\n",
       "      <td>Rural</td>\n",
       "      <td>N</td>\n",
       "    </tr>\n",
       "    <tr>\n",
       "      <th>2</th>\n",
       "      <td>LP001005</td>\n",
       "      <td>Male</td>\n",
       "      <td>Yes</td>\n",
       "      <td>0</td>\n",
       "      <td>Graduate</td>\n",
       "      <td>Yes</td>\n",
       "      <td>3000</td>\n",
       "      <td>0.0</td>\n",
       "      <td>66.0</td>\n",
       "      <td>360.0</td>\n",
       "      <td>1.0</td>\n",
       "      <td>Urban</td>\n",
       "      <td>Y</td>\n",
       "    </tr>\n",
       "    <tr>\n",
       "      <th>3</th>\n",
       "      <td>LP001006</td>\n",
       "      <td>Male</td>\n",
       "      <td>Yes</td>\n",
       "      <td>0</td>\n",
       "      <td>Not Graduate</td>\n",
       "      <td>No</td>\n",
       "      <td>2583</td>\n",
       "      <td>2358.0</td>\n",
       "      <td>120.0</td>\n",
       "      <td>360.0</td>\n",
       "      <td>1.0</td>\n",
       "      <td>Urban</td>\n",
       "      <td>Y</td>\n",
       "    </tr>\n",
       "    <tr>\n",
       "      <th>4</th>\n",
       "      <td>LP001008</td>\n",
       "      <td>Male</td>\n",
       "      <td>No</td>\n",
       "      <td>0</td>\n",
       "      <td>Graduate</td>\n",
       "      <td>No</td>\n",
       "      <td>6000</td>\n",
       "      <td>0.0</td>\n",
       "      <td>141.0</td>\n",
       "      <td>360.0</td>\n",
       "      <td>1.0</td>\n",
       "      <td>Urban</td>\n",
       "      <td>Y</td>\n",
       "    </tr>\n",
       "    <tr>\n",
       "      <th>...</th>\n",
       "      <td>...</td>\n",
       "      <td>...</td>\n",
       "      <td>...</td>\n",
       "      <td>...</td>\n",
       "      <td>...</td>\n",
       "      <td>...</td>\n",
       "      <td>...</td>\n",
       "      <td>...</td>\n",
       "      <td>...</td>\n",
       "      <td>...</td>\n",
       "      <td>...</td>\n",
       "      <td>...</td>\n",
       "      <td>...</td>\n",
       "    </tr>\n",
       "    <tr>\n",
       "      <th>609</th>\n",
       "      <td>LP002978</td>\n",
       "      <td>Female</td>\n",
       "      <td>No</td>\n",
       "      <td>0</td>\n",
       "      <td>Graduate</td>\n",
       "      <td>No</td>\n",
       "      <td>2900</td>\n",
       "      <td>0.0</td>\n",
       "      <td>71.0</td>\n",
       "      <td>360.0</td>\n",
       "      <td>1.0</td>\n",
       "      <td>Rural</td>\n",
       "      <td>Y</td>\n",
       "    </tr>\n",
       "    <tr>\n",
       "      <th>610</th>\n",
       "      <td>LP002979</td>\n",
       "      <td>Male</td>\n",
       "      <td>Yes</td>\n",
       "      <td>3+</td>\n",
       "      <td>Graduate</td>\n",
       "      <td>No</td>\n",
       "      <td>4106</td>\n",
       "      <td>0.0</td>\n",
       "      <td>40.0</td>\n",
       "      <td>180.0</td>\n",
       "      <td>1.0</td>\n",
       "      <td>Rural</td>\n",
       "      <td>Y</td>\n",
       "    </tr>\n",
       "    <tr>\n",
       "      <th>611</th>\n",
       "      <td>LP002983</td>\n",
       "      <td>Male</td>\n",
       "      <td>Yes</td>\n",
       "      <td>1</td>\n",
       "      <td>Graduate</td>\n",
       "      <td>No</td>\n",
       "      <td>8072</td>\n",
       "      <td>240.0</td>\n",
       "      <td>253.0</td>\n",
       "      <td>360.0</td>\n",
       "      <td>1.0</td>\n",
       "      <td>Urban</td>\n",
       "      <td>Y</td>\n",
       "    </tr>\n",
       "    <tr>\n",
       "      <th>612</th>\n",
       "      <td>LP002984</td>\n",
       "      <td>Male</td>\n",
       "      <td>Yes</td>\n",
       "      <td>2</td>\n",
       "      <td>Graduate</td>\n",
       "      <td>No</td>\n",
       "      <td>7583</td>\n",
       "      <td>0.0</td>\n",
       "      <td>187.0</td>\n",
       "      <td>360.0</td>\n",
       "      <td>1.0</td>\n",
       "      <td>Urban</td>\n",
       "      <td>Y</td>\n",
       "    </tr>\n",
       "    <tr>\n",
       "      <th>613</th>\n",
       "      <td>LP002990</td>\n",
       "      <td>Female</td>\n",
       "      <td>No</td>\n",
       "      <td>0</td>\n",
       "      <td>Graduate</td>\n",
       "      <td>Yes</td>\n",
       "      <td>4583</td>\n",
       "      <td>0.0</td>\n",
       "      <td>133.0</td>\n",
       "      <td>360.0</td>\n",
       "      <td>0.0</td>\n",
       "      <td>Semiurban</td>\n",
       "      <td>N</td>\n",
       "    </tr>\n",
       "  </tbody>\n",
       "</table>\n",
       "<p>614 rows × 13 columns</p>\n",
       "</div>"
      ],
      "text/plain": [
       "      Loan_ID  Gender Married Dependents     Education Self_Employed  \\\n",
       "0    LP001002    Male      No          0      Graduate            No   \n",
       "1    LP001003    Male     Yes          1      Graduate            No   \n",
       "2    LP001005    Male     Yes          0      Graduate           Yes   \n",
       "3    LP001006    Male     Yes          0  Not Graduate            No   \n",
       "4    LP001008    Male      No          0      Graduate            No   \n",
       "..        ...     ...     ...        ...           ...           ...   \n",
       "609  LP002978  Female      No          0      Graduate            No   \n",
       "610  LP002979    Male     Yes         3+      Graduate            No   \n",
       "611  LP002983    Male     Yes          1      Graduate            No   \n",
       "612  LP002984    Male     Yes          2      Graduate            No   \n",
       "613  LP002990  Female      No          0      Graduate           Yes   \n",
       "\n",
       "     ApplicantIncome  CoapplicantIncome  LoanAmount  Loan_Amount_Term  \\\n",
       "0               5849                0.0         NaN             360.0   \n",
       "1               4583             1508.0       128.0             360.0   \n",
       "2               3000                0.0        66.0             360.0   \n",
       "3               2583             2358.0       120.0             360.0   \n",
       "4               6000                0.0       141.0             360.0   \n",
       "..               ...                ...         ...               ...   \n",
       "609             2900                0.0        71.0             360.0   \n",
       "610             4106                0.0        40.0             180.0   \n",
       "611             8072              240.0       253.0             360.0   \n",
       "612             7583                0.0       187.0             360.0   \n",
       "613             4583                0.0       133.0             360.0   \n",
       "\n",
       "     Credit_History Property_Area Loan_Status  \n",
       "0               1.0         Urban           Y  \n",
       "1               1.0         Rural           N  \n",
       "2               1.0         Urban           Y  \n",
       "3               1.0         Urban           Y  \n",
       "4               1.0         Urban           Y  \n",
       "..              ...           ...         ...  \n",
       "609             1.0         Rural           Y  \n",
       "610             1.0         Rural           Y  \n",
       "611             1.0         Urban           Y  \n",
       "612             1.0         Urban           Y  \n",
       "613             0.0     Semiurban           N  \n",
       "\n",
       "[614 rows x 13 columns]"
      ]
     },
     "execution_count": 2,
     "metadata": {},
     "output_type": "execute_result"
    }
   ],
   "source": [
    "df = pd.read_csv('train.csv')\n",
    "df\n"
   ]
  },
  {
   "cell_type": "code",
   "execution_count": null,
   "id": "009aa2f0",
   "metadata": {},
   "outputs": [],
   "source": []
  },
  {
   "cell_type": "code",
   "execution_count": 3,
   "id": "307be633",
   "metadata": {},
   "outputs": [
    {
     "data": {
      "text/plain": [
       "<AxesSubplot:xlabel='LoanAmount', ylabel='Density'>"
      ]
     },
     "execution_count": 3,
     "metadata": {},
     "output_type": "execute_result"
    },
    {
     "data": {
      "image/png": "[encoded data removed]",
      "text/plain": [
       "<Figure size 640x480 with 1 Axes>"
      ]
     },
     "metadata": {},
     "output_type": "display_data"
    }
   ],
   "source": [
    "sns.distplot(df['LoanAmount'] )"
   ]
  },
  {
   "cell_type": "code",
   "execution_count": 4,
   "id": "309bc40a",
   "metadata": {},
   "outputs": [
    {
     "name": "stdout",
     "output_type": "stream",
     "text": [
      "<class 'pandas.core.frame.DataFrame'>\n",
      "RangeIndex: 614 entries, 0 to 613\n",
      "Data columns (total 13 columns):\n",
      " #   Column             Non-Null Count  Dtype  \n",
      "---  ------             --------------  -----  \n",
      " 0   Loan_ID            614 non-null    object \n",
      " 1   Gender             601 non-null    object \n",
      " 2   Married            611 non-null    object \n",
      " 3   Dependents         599 non-null    object \n",
      " 4   Education          614 non-null    object \n",
      " 5   Self_Employed      582 non-null    object \n",
      " 6   ApplicantIncome    614 non-null    int64  \n",
      " 7   CoapplicantIncome  614 non-null    float64\n",
      " 8   LoanAmount         592 non-null    float64\n",
      " 9   Loan_Amount_Term   600 non-null    float64\n",
      " 10  Credit_History     564 non-null    float64\n",
      " 11  Property_Area      614 non-null    object \n",
      " 12  Loan_Status        614 non-null    object \n",
      "dtypes: float64(4), int64(1), object(8)\n",
      "memory usage: 62.5+ KB\n"
     ]
    }
   ],
   "source": [
    "df.info()"
   ]
  },
  {
   "cell_type": "code",
   "execution_count": 5,
   "id": "8440f8ae",
   "metadata": {},
   "outputs": [
    {
     "data": {
      "text/html": [
       "<div>\n",
       "<style scoped>\n",
       "    .dataframe tbody tr th:only-of-type {\n",
       "        vertical-align: middle;\n",
       "    }\n",
       "\n",
       "    .dataframe tbody tr th {\n",
       "        vertical-align: top;\n",
       "    }\n",
       "\n",
       "    .dataframe thead th {\n",
       "        text-align: right;\n",
       "    }\n",
       "</style>\n",
       "<table border=\"1\" class=\"dataframe\">\n",
       "  <thead>\n",
       "    <tr style=\"text-align: right;\">\n",
       "      <th></th>\n",
       "      <th>Loan_ID</th>\n",
       "      <th>Gender</th>\n",
       "      <th>Married</th>\n",
       "      <th>Dependents</th>\n",
       "      <th>Education</th>\n",
       "      <th>Self_Employed</th>\n",
       "      <th>Credit_History</th>\n",
       "      <th>Property_Area</th>\n",
       "      <th>Loan_Status</th>\n",
       "    </tr>\n",
       "  </thead>\n",
       "  <tbody>\n",
       "    <tr>\n",
       "      <th>count</th>\n",
       "      <td>614</td>\n",
       "      <td>601</td>\n",
       "      <td>611</td>\n",
       "      <td>599</td>\n",
       "      <td>614</td>\n",
       "      <td>582</td>\n",
       "      <td>564.0</td>\n",
       "      <td>614</td>\n",
       "      <td>614</td>\n",
       "    </tr>\n",
       "    <tr>\n",
       "      <th>unique</th>\n",
       "      <td>614</td>\n",
       "      <td>2</td>\n",
       "      <td>2</td>\n",
       "      <td>4</td>\n",
       "      <td>2</td>\n",
       "      <td>2</td>\n",
       "      <td>2.0</td>\n",
       "      <td>3</td>\n",
       "      <td>2</td>\n",
       "    </tr>\n",
       "    <tr>\n",
       "      <th>top</th>\n",
       "      <td>LP001002</td>\n",
       "      <td>Male</td>\n",
       "      <td>Yes</td>\n",
       "      <td>0</td>\n",
       "      <td>Graduate</td>\n",
       "      <td>No</td>\n",
       "      <td>1.0</td>\n",
       "      <td>Semiurban</td>\n",
       "      <td>Y</td>\n",
       "    </tr>\n",
       "    <tr>\n",
       "      <th>freq</th>\n",
       "      <td>1</td>\n",
       "      <td>489</td>\n",
       "      <td>398</td>\n",
       "      <td>345</td>\n",
       "      <td>480</td>\n",
       "      <td>500</td>\n",
       "      <td>475.0</td>\n",
       "      <td>233</td>\n",
       "      <td>422</td>\n",
       "    </tr>\n",
       "  </tbody>\n",
       "</table>\n",
       "</div>"
      ],
      "text/plain": [
       "         Loan_ID Gender Married Dependents Education Self_Employed  \\\n",
       "count        614    601     611        599       614           582   \n",
       "unique       614      2       2          4         2             2   \n",
       "top     LP001002   Male     Yes          0  Graduate            No   \n",
       "freq           1    489     398        345       480           500   \n",
       "\n",
       "        Credit_History Property_Area Loan_Status  \n",
       "count            564.0           614         614  \n",
       "unique             2.0             3           2  \n",
       "top                1.0     Semiurban           Y  \n",
       "freq             475.0           233         422  "
      ]
     },
     "execution_count": 5,
     "metadata": {},
     "output_type": "execute_result"
    }
   ],
   "source": [
    "df.Credit_History.unique()\n",
    "# we will change the type of Credit_History to object becaues we can see that it is 1 or 0\n",
    "\n",
    "df['Credit_History'] = df['Credit_History'].astype('O')\n",
    "df.describe(include='O')"
   ]
  },
  {
   "cell_type": "code",
   "execution_count": 6,
   "id": "963c9438",
   "metadata": {},
   "outputs": [
    {
     "name": "stdout",
     "output_type": "stream",
     "text": [
      "The percentage of Y class : 0.69\n",
      "The percentage of N class : 0.31\n"
     ]
    },
    {
     "data": {
      "image/png": "[encoded data removed]",
      "text/plain": [
       "<Figure size 1000x500 with 1 Axes>"
      ]
     },
     "metadata": {},
     "output_type": "display_data"
    }
   ],
   "source": [
    "plt.figure(figsize = (10 , 5))\n",
    "sns.countplot(df['Loan_Status']);\n",
    "    \n",
    "print('The percentage of Y class : %.2f' % (df['Loan_Status'].value_counts()[0] / len(df)))\n",
    "print('The percentage of N class : %.2f' % (df['Loan_Status'].value_counts()[1] / len(df)))\n",
    "\n",
    "\n",
    "# we can say data is balanced"
   ]
  },
  {
   "cell_type": "code",
   "execution_count": 7,
   "id": "75a155b1",
   "metadata": {},
   "outputs": [
    {
     "name": "stdout",
     "output_type": "stream",
     "text": [
      "The percentage with Credit History class : 0.77\n",
      "The percentage of Credit History in approved loan class : 0.90\n",
      "The percentage of Credit History in approved loan class : 0.51\n"
     ]
    },
    {
     "data": {
      "image/png": "[encoded data removed]",
      "text/plain": [
       "<Figure size 1000x500 with 1 Axes>"
      ]
     },
     "metadata": {},
     "output_type": "display_data"
    },
    {
     "data": {
      "image/png": "[encoded data removed]",
      "text/plain": [
       "<Figure size 1000x500 with 1 Axes>"
      ]
     },
     "metadata": {},
     "output_type": "display_data"
    }
   ],
   "source": [
    "\n",
    "# Credit_History\n",
    "\n",
    "\n",
    "# plt.figure(figsize=(8,6))\n",
    "# grid = sns.FacetGrid(df,col='Loan_Status', size=3.2, aspect=1.6)\n",
    "# grid.map(sns.countplot, 'CH_text');\n",
    "\n",
    "plt.figure(figsize = (10 , 5))\n",
    "sns.countplot(df['Credit_History']);\n",
    "plt.figure(figsize = (10 , 5))\n",
    "sns.countplot(x='Loan_Status', hue='Credit_History', data=df);\n",
    "\n",
    "print('The percentage with Credit History class : %.2f' % (df['Credit_History'].value_counts()[1] / len(df)))\n",
    "\n",
    "print('The percentage of Credit History in approved loan class : %.2f' % (df[df[\"Loan_Status\"]=='Y']['Credit_History'].value_counts()[1] / len(df[df[\"Loan_Status\"]=='Y'])))\n",
    "print('The percentage of Credit History in approved loan class : %.2f' % (df[df[\"Loan_Status\"]=='N']['Credit_History'].value_counts()[1] / len(df[df[\"Loan_Status\"]=='N'])))\n",
    "\n",
    "# we didn't give a loan for most people who got Credit History = 0 or N\n",
    "# but we did give a loan for most of people who got Credit History = 1 or Y\n",
    "# 90% of the people in so we can say if you got Credit History = 1 , you will have better chance to get a loan\n",
    "\n",
    "# Dataset is unbalanced in terms of credit history - 85% of the data has credit history\n",
    "#Even with this high number we see only 50% of the people with credit history getting their loans rejected. \n",
    "# This clearly tells us that having loan history reduces the chanes of loan rejection\n",
    "\n",
    "\n",
    "# important feature"
   ]
  },
  {
   "cell_type": "code",
   "execution_count": null,
   "id": "67f66a89",
   "metadata": {},
   "outputs": [],
   "source": []
  },
  {
   "cell_type": "code",
   "execution_count": 8,
   "id": "b910eb12",
   "metadata": {},
   "outputs": [
    {
     "name": "stdout",
     "output_type": "stream",
     "text": [
      "The percentage of male class : 0.80\n",
      "The percentage male with approved loan class : 0.80\n",
      "The percentage male with unapproved loan  class : 0.78\n"
     ]
    },
    {
     "data": {
      "image/png": "[encoded data removed]",
      "text/plain": [
       "<Figure size 1000x500 with 1 Axes>"
      ]
     },
     "metadata": {},
     "output_type": "display_data"
    },
    {
     "data": {
      "image/png": "[encoded data removed]",
      "text/plain": [
       "<Figure size 1000x500 with 1 Axes>"
      ]
     },
     "metadata": {},
     "output_type": "display_data"
    }
   ],
   "source": [
    "# Gender\n",
    "plt.figure(figsize = (10 , 5))\n",
    "sns.countplot(df['Gender']);\n",
    "\n",
    "plt.figure(figsize = (10 , 5))\n",
    "sns.countplot(x='Loan_Status', hue='Gender', data=df);\n",
    "\n",
    "# grid = sns.FacetGrid(df,col='Loan_Status', size=3.2, aspect=1.6)\n",
    "# grid.map(sns.countplot, 'Gender');\n",
    "\n",
    "print('The percentage of male class : %.2f' % (df['Gender'].value_counts()[0] / len(df)))\n",
    "\n",
    "print('The percentage male with approved loan class : %.2f' % (df[df[\"Loan_Status\"]=='Y']['Gender'].value_counts()[0] / len(df[df[\"Loan_Status\"]=='Y'])))\n",
    "print('The percentage male with unapproved loan  class : %.2f' % (df[df[\"Loan_Status\"]=='N']['Gender'].value_counts()[0] / len(df[df[\"Loan_Status\"]=='N'])))\n",
    "\n",
    "\n",
    "# i think it's not so important feature, we will see later\n"
   ]
  },
  {
   "cell_type": "code",
   "execution_count": 9,
   "id": "e3c49837",
   "metadata": {},
   "outputs": [
    {
     "name": "stdout",
     "output_type": "stream",
     "text": [
      "The percentage of married class : 0.65\n",
      "The percentage married people in approved loan class : 0.68\n",
      "The percentage married people in unapproved loan  class : 0.59\n"
     ]
    },
    {
     "data": {
      "image/png": "[encoded data removed]",
      "text/plain": [
       "<Figure size 1000x500 with 1 Axes>"
      ]
     },
     "metadata": {},
     "output_type": "display_data"
    },
    {
     "data": {
      "image/png": "[encoded data removed]",
      "text/plain": [
       "<Figure size 1000x500 with 1 Axes>"
      ]
     },
     "metadata": {},
     "output_type": "display_data"
    }
   ],
   "source": [
    "# Married\n",
    "plt.figure(figsize = (10 , 5))\n",
    "sns.countplot(df['Married']);\n",
    "\n",
    "\n",
    "plt.figure(figsize = (10 , 5))\n",
    "sns.countplot(x='Loan_Status', hue='Married', data=df);\n",
    "\n",
    "print('The percentage of married class : %.2f' % (df['Married'].value_counts()[0] / len(df)))\n",
    "\n",
    "print('The percentage married people in approved loan class : %.2f' % (df[df[\"Loan_Status\"]=='Y']['Married'].value_counts()[0] / len(df[df[\"Loan_Status\"]=='Y'])))\n",
    "print('The percentage married people in unapproved loan  class : %.2f' % (df[df[\"Loan_Status\"]=='N']['Married'].value_counts()[0] / len(df[df[\"Loan_Status\"]=='N'])))\n",
    "\n",
    "#  Didnt affect too much but we can still consider"
   ]
  },
  {
   "cell_type": "code",
   "execution_count": 10,
   "id": "59093e58",
   "metadata": {},
   "outputs": [
    {
     "name": "stdout",
     "output_type": "stream",
     "text": [
      "The percentage of 0 dependents : 0.56\n",
      "The percentage of 1 dependents : 0.17\n",
      "The percentage of 2 dependents : 0.16\n",
      "The percentage of 3 dependents : 0.08\n",
      "The percentage 0 dependents in approved loan class : 0.56\n",
      "The percentage 0 dependents in unapproved loan  class : 0.56\n",
      "The percentage 1 dependents in approved loan class : 0.18\n",
      "The percentage 1 dependents in unapproved loan  class : 0.19\n",
      "The percentage 2 dependents in approved loan class : 0.16\n",
      "The percentage 2 dependents in unapproved loan  class : 0.13\n",
      "The percentage 3+ dependents in approved loan class : 0.08\n",
      "The percentage 3+ dependents in unapproved loan  class : 0.09\n"
     ]
    },
    {
     "data": {
      "image/png": "[encoded data removed]",
      "text/plain": [
       "<Figure size 1000x500 with 1 Axes>"
      ]
     },
     "metadata": {},
     "output_type": "display_data"
    },
    {
     "data": {
      "image/png": "[encoded data removed]",
      "text/plain": [
       "<Figure size 1000x500 with 1 Axes>"
      ]
     },
     "metadata": {},
     "output_type": "display_data"
    }
   ],
   "source": [
    "plt.figure(figsize = (10 , 5))\n",
    "sns.countplot(df['Dependents']);\n",
    "\n",
    "plt.figure(figsize = (10 , 5))\n",
    "sns.countplot(x='Loan_Status', hue='Dependents', data=df);\n",
    "\n",
    "# first if Dependents = 0 , we got higher chance to get a loan ((very hight chance))\n",
    "# good feature\n",
    "\n",
    "print('The percentage of 0 dependents : %.2f' % (df['Dependents'].value_counts()[0] / len(df)))\n",
    "print('The percentage of 1 dependents : %.2f' % (df['Dependents'].value_counts()[1] / len(df)))\n",
    "print('The percentage of 2 dependents : %.2f' % (df['Dependents'].value_counts()[2] / len(df)))\n",
    "print('The percentage of 3 dependents : %.2f' % (df['Dependents'].value_counts()[3] / len(df)))\n",
    "\n",
    "print('The percentage 0 dependents in approved loan class : %.2f' % (df[df[\"Loan_Status\"]=='Y']['Dependents'].value_counts()[0] / len(df[df[\"Loan_Status\"]=='Y'])))\n",
    "print('The percentage 0 dependents in unapproved loan  class : %.2f' % (df[df[\"Loan_Status\"]=='N']['Dependents'].value_counts()[0] / len(df[df[\"Loan_Status\"]=='N'])))\n",
    "\n",
    "print('The percentage 1 dependents in approved loan class : %.2f' % (df[df[\"Loan_Status\"]=='Y']['Dependents'].value_counts()[1] / len(df[df[\"Loan_Status\"]=='Y'])))\n",
    "print('The percentage 1 dependents in unapproved loan  class : %.2f' % (df[df[\"Loan_Status\"]=='N']['Dependents'].value_counts()[1] / len(df[df[\"Loan_Status\"]=='N'])))\n",
    "\n",
    "print('The percentage 2 dependents in approved loan class : %.2f' % (df[df[\"Loan_Status\"]=='Y']['Dependents'].value_counts()[2] / len(df[df[\"Loan_Status\"]=='Y'])))\n",
    "print('The percentage 2 dependents in unapproved loan  class : %.2f' % (df[df[\"Loan_Status\"]=='N']['Dependents'].value_counts()[2] / len(df[df[\"Loan_Status\"]=='N'])))\n",
    "\n",
    "print('The percentage 3+ dependents in approved loan class : %.2f' % (df[df[\"Loan_Status\"]=='Y']['Dependents'].value_counts()[3] / len(df[df[\"Loan_Status\"]=='Y'])))\n",
    "print('The percentage 3+ dependents in unapproved loan  class : %.2f' % (df[df[\"Loan_Status\"]=='N']['Dependents'].value_counts()[3] / len(df[df[\"Loan_Status\"]=='N'])))\n",
    "\n",
    "\n",
    "# Distribution remains the same - probabaly doesnt affect much"
   ]
  },
  {
   "cell_type": "code",
   "execution_count": 11,
   "id": "aad7394b",
   "metadata": {},
   "outputs": [
    {
     "name": "stdout",
     "output_type": "stream",
     "text": [
      "The percentage of graduates in a dataset : 0.78\n",
      "The percentage graduates in approved loan class : 0.81\n",
      "The percentage graduates in unapproved loan  class : 0.73\n"
     ]
    },
    {
     "data": {
      "image/png": "[encoded data removed]",
      "text/plain": [
       "<Figure size 1000x500 with 1 Axes>"
      ]
     },
     "metadata": {},
     "output_type": "display_data"
    },
    {
     "data": {
      "image/png": "[encoded data removed]",
      "text/plain": [
       "<Figure size 1000x500 with 1 Axes>"
      ]
     },
     "metadata": {},
     "output_type": "display_data"
    }
   ],
   "source": [
    "# Education\n",
    "\n",
    "plt.figure(figsize = (10 , 5))\n",
    "sns.countplot(df['Education']);\n",
    "\n",
    "plt.figure(figsize = (10 , 5))\n",
    "sns.countplot(x='Loan_Status', hue='Education', data=df);\n",
    "\n",
    "print('The percentage of graduates in a dataset : %.2f' % (df['Education'].value_counts()[0] / len(df)))\n",
    "\n",
    "print('The percentage graduates in approved loan class : %.2f' % (df[df[\"Loan_Status\"]=='Y']['Education'].value_counts()[0] / len(df[df[\"Loan_Status\"]=='Y'])))\n",
    "print('The percentage graduates in unapproved loan  class : %.2f' % (df[df[\"Loan_Status\"]=='N']['Education'].value_counts()[0] / len(df[df[\"Loan_Status\"]=='N'])))\n",
    "\n",
    "\n",
    "# grid = sns.FacetGrid(df,col='Loan_Status', size=3.2, aspect=1.6)\n",
    "# grid.map(sns.countplot, 'Education');\n",
    "\n",
    "# If you are graduated or not, you will get almost the same chance to get a loan (No pattern)\n",
    "# Here you can see that most people did graduated, and most of them got a loan\n",
    "# on the other hand, most of people who did't graduate also got a loan, but with less percentage from people who graduated\n",
    "\n",
    "#changed a little"
   ]
  },
  {
   "cell_type": "code",
   "execution_count": 12,
   "id": "f91cb95e",
   "metadata": {},
   "outputs": [
    {
     "name": "stdout",
     "output_type": "stream",
     "text": [
      "The percentage of Self_Employed in a dataset : 0.81\n",
      "The percentage ofSelf_Employed in approved loan class : 0.81\n",
      "The percentage of Self_Employed in unapproved loan  class : 0.82\n"
     ]
    },
    {
     "data": {
      "image/png": "[encoded data removed]",
      "text/plain": [
       "<Figure size 1000x500 with 1 Axes>"
      ]
     },
     "metadata": {},
     "output_type": "display_data"
    },
    {
     "data": {
      "image/png": "[encoded data removed]",
      "text/plain": [
       "<Figure size 1000x500 with 1 Axes>"
      ]
     },
     "metadata": {},
     "output_type": "display_data"
    }
   ],
   "source": [
    "# Self_Employed\n",
    "plt.figure(figsize = (10 , 5))\n",
    "sns.countplot(df['Self_Employed']);\n",
    "\n",
    "plt.figure(figsize = (10 , 5))\n",
    "sns.countplot(x='Loan_Status', hue='Self_Employed', data=df);\n",
    "\n",
    "print('The percentage of Self_Employed in a dataset : %.2f' % (df['Self_Employed'].value_counts()[0] / len(df)))\n",
    "print('The percentage ofSelf_Employed in approved loan class : %.2f' % (df[df[\"Loan_Status\"]=='Y']['Self_Employed'].value_counts()[0] / len(df[df[\"Loan_Status\"]=='Y'])))\n",
    "print('The percentage of Self_Employed in unapproved loan  class : %.2f' % (df[df[\"Loan_Status\"]=='N']['Self_Employed'].value_counts()[0] / len(df[df[\"Loan_Status\"]=='N'])))\n",
    "\n",
    "\n",
    "# grid = sns.FacetGrid(df,col='Loan_Status', size=3.2, aspect=1.6)\n",
    "# grid.map(sns.countplot, 'Self_Employed');\n",
    "\n",
    "\n",
    "# No pattern (same as Education)"
   ]
  },
  {
   "cell_type": "code",
   "execution_count": 13,
   "id": "6dc9947e",
   "metadata": {},
   "outputs": [
    {
     "name": "stdout",
     "output_type": "stream",
     "text": [
      "The percentage of Semiurban : 0.38\n",
      "The percentage of Urban : 0.33\n",
      "The percentage of Rural : 0.29\n",
      "The percentage Semiurban in approved loan class : 0.42\n",
      "The percentage Semiurban in unapproved loan  class : 0.36\n",
      "The percentage Urban in approved loan class : 0.32\n",
      "The percentage Urban in unapproved loan  class : 0.36\n",
      "The percentage Rural in approved loan class : 0.26\n",
      "The percentage Rural in unapproved loan  class : 0.28\n"
     ]
    },
    {
     "data": {
      "image/png": "[encoded data removed]",
      "text/plain": [
       "<Figure size 1000x500 with 1 Axes>"
      ]
     },
     "metadata": {},
     "output_type": "display_data"
    },
    {
     "data": {
      "image/png": "[encoded data removed]",
      "text/plain": [
       "<Figure size 1000x500 with 1 Axes>"
      ]
     },
     "metadata": {},
     "output_type": "display_data"
    }
   ],
   "source": [
    "# Property_Area\n",
    "\n",
    "\n",
    "plt.figure(figsize = (10 , 5))\n",
    "sns.countplot(df['Property_Area']);\n",
    "\n",
    "plt.figure(figsize = (10 , 5))\n",
    "sns.countplot(x='Loan_Status', hue='Property_Area', data=df);\n",
    "\n",
    "# first if Dependents = 0 , we got higher chance to get a loan ((very hight chance))\n",
    "# good feature\n",
    "\n",
    "print('The percentage of Semiurban : %.2f' % (df['Property_Area'].value_counts()[0] / len(df)))\n",
    "print('The percentage of Urban : %.2f' % (df['Property_Area'].value_counts()[1] / len(df)))\n",
    "print('The percentage of Rural : %.2f' % (df['Property_Area'].value_counts()[2] / len(df)))\n",
    "\n",
    "\n",
    "print('The percentage Semiurban in approved loan class : %.2f' % (df[df[\"Loan_Status\"]=='Y']['Property_Area'].value_counts()[0] / len(df[df[\"Loan_Status\"]=='Y'])))\n",
    "print('The percentage Semiurban in unapproved loan  class : %.2f' % (df[df[\"Loan_Status\"]=='N']['Property_Area'].value_counts()[0] / len(df[df[\"Loan_Status\"]=='N'])))\n",
    "\n",
    "print('The percentage Urban in approved loan class : %.2f' % (df[df[\"Loan_Status\"]=='Y']['Property_Area'].value_counts()[1] / len(df[df[\"Loan_Status\"]=='Y'])))\n",
    "print('The percentage Urban in unapproved loan  class : %.2f' % (df[df[\"Loan_Status\"]=='N']['Property_Area'].value_counts()[1] / len(df[df[\"Loan_Status\"]=='N'])))\n",
    "\n",
    "print('The percentage Rural in approved loan class : %.2f' % (df[df[\"Loan_Status\"]=='Y']['Property_Area'].value_counts()[2] / len(df[df[\"Loan_Status\"]=='Y'])))\n",
    "print('The percentage Rural in unapproved loan  class : %.2f' % (df[df[\"Loan_Status\"]=='N']['Property_Area'].value_counts()[2] / len(df[df[\"Loan_Status\"]=='N'])))\n",
    "\n",
    "\n",
    "# We can say, Semiurban Property_Area got more than 50% than urban chance to get a loan\n",
    "\n"
   ]
  },
  {
   "cell_type": "code",
   "execution_count": 15,
   "id": "21d30f9b",
   "metadata": {},
   "outputs": [
    {
     "data": {
      "image/png": "[encoded data removed]",
      "text/plain": [
       "<Figure size 1000x500 with 1 Axes>"
      ]
     },
     "metadata": {},
     "output_type": "display_data"
    }
   ],
   "source": [
    "# ApplicantIncome\n",
    "plt.figure(figsize = (10 , 5))\n",
    "plt.scatter(df['ApplicantIncome'], df['Loan_Status']);\n",
    "\n",
    "# Higher income people have low rejection rate"
   ]
  },
  {
   "cell_type": "code",
   "execution_count": 16,
   "id": "7bf707e8",
   "metadata": {},
   "outputs": [
    {
     "data": {
      "text/html": [
       "<div>\n",
       "<style scoped>\n",
       "    .dataframe tbody tr th:only-of-type {\n",
       "        vertical-align: middle;\n",
       "    }\n",
       "\n",
       "    .dataframe tbody tr th {\n",
       "        vertical-align: top;\n",
       "    }\n",
       "\n",
       "    .dataframe thead th {\n",
       "        text-align: right;\n",
       "    }\n",
       "</style>\n",
       "<table border=\"1\" class=\"dataframe\">\n",
       "  <thead>\n",
       "    <tr style=\"text-align: right;\">\n",
       "      <th></th>\n",
       "      <th>ApplicantIncome</th>\n",
       "      <th>CoapplicantIncome</th>\n",
       "      <th>LoanAmount</th>\n",
       "      <th>Loan_Amount_Term</th>\n",
       "    </tr>\n",
       "    <tr>\n",
       "      <th>Loan_Status</th>\n",
       "      <th></th>\n",
       "      <th></th>\n",
       "      <th></th>\n",
       "      <th></th>\n",
       "    </tr>\n",
       "  </thead>\n",
       "  <tbody>\n",
       "    <tr>\n",
       "      <th>N</th>\n",
       "      <td>3833.5</td>\n",
       "      <td>268.0</td>\n",
       "      <td>129.0</td>\n",
       "      <td>360.0</td>\n",
       "    </tr>\n",
       "    <tr>\n",
       "      <th>Y</th>\n",
       "      <td>3812.5</td>\n",
       "      <td>1239.5</td>\n",
       "      <td>126.0</td>\n",
       "      <td>360.0</td>\n",
       "    </tr>\n",
       "  </tbody>\n",
       "</table>\n",
       "</div>"
      ],
      "text/plain": [
       "             ApplicantIncome  CoapplicantIncome  LoanAmount  Loan_Amount_Term\n",
       "Loan_Status                                                                  \n",
       "N                     3833.5              268.0       129.0             360.0\n",
       "Y                     3812.5             1239.5       126.0             360.0"
      ]
     },
     "execution_count": 16,
     "metadata": {},
     "output_type": "execute_result"
    }
   ],
   "source": [
    "# the numerical data\n",
    "\n",
    "df.groupby('Loan_Status').mean()\n",
    "df.groupby('Loan_Status').median() # median because Not affected with outliers\n",
    "\n",
    "#df[df[\"Loan_Status\"]=='Y'].describe()\n",
    "# we can see that when we got low median in CoapplicantInocme we got Loan_Status = N\n",
    "\n",
    "# CoapplicantInocme is a good feature"
   ]
  },
  {
   "cell_type": "code",
   "execution_count": 17,
   "id": "608ebdd0",
   "metadata": {},
   "outputs": [
    {
     "data": {
      "text/html": [
       "<div>\n",
       "<style scoped>\n",
       "    .dataframe tbody tr th:only-of-type {\n",
       "        vertical-align: middle;\n",
       "    }\n",
       "\n",
       "    .dataframe tbody tr th {\n",
       "        vertical-align: top;\n",
       "    }\n",
       "\n",
       "    .dataframe thead th {\n",
       "        text-align: right;\n",
       "    }\n",
       "</style>\n",
       "<table border=\"1\" class=\"dataframe\">\n",
       "  <thead>\n",
       "    <tr style=\"text-align: right;\">\n",
       "      <th></th>\n",
       "      <th>ApplicantIncome</th>\n",
       "      <th>CoapplicantIncome</th>\n",
       "      <th>LoanAmount</th>\n",
       "      <th>Loan_Amount_Term</th>\n",
       "      <th>LoanperIncome</th>\n",
       "    </tr>\n",
       "    <tr>\n",
       "      <th>Loan_Status</th>\n",
       "      <th></th>\n",
       "      <th></th>\n",
       "      <th></th>\n",
       "      <th></th>\n",
       "      <th></th>\n",
       "    </tr>\n",
       "  </thead>\n",
       "  <tbody>\n",
       "    <tr>\n",
       "      <th>N</th>\n",
       "      <td>5446.078125</td>\n",
       "      <td>1877.807292</td>\n",
       "      <td>151.220994</td>\n",
       "      <td>344.064516</td>\n",
       "      <td>0.044480</td>\n",
       "    </tr>\n",
       "    <tr>\n",
       "      <th>Y</th>\n",
       "      <td>5384.068720</td>\n",
       "      <td>1504.516398</td>\n",
       "      <td>144.294404</td>\n",
       "      <td>341.072464</td>\n",
       "      <td>0.035587</td>\n",
       "    </tr>\n",
       "  </tbody>\n",
       "</table>\n",
       "</div>"
      ],
      "text/plain": [
       "             ApplicantIncome  CoapplicantIncome  LoanAmount  Loan_Amount_Term  \\\n",
       "Loan_Status                                                                     \n",
       "N                5446.078125        1877.807292  151.220994        344.064516   \n",
       "Y                5384.068720        1504.516398  144.294404        341.072464   \n",
       "\n",
       "             LoanperIncome  \n",
       "Loan_Status                 \n",
       "N                 0.044480  \n",
       "Y                 0.035587  "
      ]
     },
     "execution_count": 17,
     "metadata": {},
     "output_type": "execute_result"
    }
   ],
   "source": [
    "x = df.copy()\n",
    "x.CoapplicantIncome\n",
    "x[\"LoanperIncome\"] = x.LoanAmount/x.ApplicantIncome\n",
    "\n",
    "x.groupby('Loan_Status').mean()\n",
    "\n",
    "\n",
    "\n",
    "# higher loan amount compared to their salary"
   ]
  },
  {
   "cell_type": "markdown",
   "id": "bb0f960a",
   "metadata": {},
   "source": [
    "#### Missing values"
   ]
  },
  {
   "cell_type": "code",
   "execution_count": 18,
   "id": "b8a41b14",
   "metadata": {},
   "outputs": [
    {
     "name": "stdout",
     "output_type": "stream",
     "text": [
      "<class 'pandas.core.frame.DataFrame'>\n",
      "Int64Index: 480 entries, 1 to 613\n",
      "Data columns (total 13 columns):\n",
      " #   Column             Non-Null Count  Dtype  \n",
      "---  ------             --------------  -----  \n",
      " 0   Loan_ID            480 non-null    object \n",
      " 1   Gender             480 non-null    object \n",
      " 2   Married            480 non-null    object \n",
      " 3   Dependents         480 non-null    object \n",
      " 4   Education          480 non-null    object \n",
      " 5   Self_Employed      480 non-null    object \n",
      " 6   ApplicantIncome    480 non-null    int64  \n",
      " 7   CoapplicantIncome  480 non-null    float64\n",
      " 8   LoanAmount         480 non-null    float64\n",
      " 9   Loan_Amount_Term   480 non-null    float64\n",
      " 10  Credit_History     480 non-null    object \n",
      " 11  Property_Area      480 non-null    object \n",
      " 12  Loan_Status        480 non-null    object \n",
      "dtypes: float64(3), int64(1), object(9)\n",
      "memory usage: 52.5+ KB\n"
     ]
    }
   ],
   "source": [
    "df.isnull().sum().sort_values(ascending=False)\n",
    "df = df.dropna()\n",
    "df.isnull().sum().sort_values(ascending=False)\n",
    "df.info()"
   ]
  },
  {
   "cell_type": "code",
   "execution_count": 19,
   "id": "60ff7224",
   "metadata": {},
   "outputs": [
    {
     "data": {
      "text/html": [
       "<div>\n",
       "<style scoped>\n",
       "    .dataframe tbody tr th:only-of-type {\n",
       "        vertical-align: middle;\n",
       "    }\n",
       "\n",
       "    .dataframe tbody tr th {\n",
       "        vertical-align: top;\n",
       "    }\n",
       "\n",
       "    .dataframe thead th {\n",
       "        text-align: right;\n",
       "    }\n",
       "</style>\n",
       "<table border=\"1\" class=\"dataframe\">\n",
       "  <thead>\n",
       "    <tr style=\"text-align: right;\">\n",
       "      <th></th>\n",
       "      <th>Married</th>\n",
       "      <th>Education</th>\n",
       "      <th>ApplicantIncome</th>\n",
       "      <th>CoapplicantIncome</th>\n",
       "      <th>LoanAmount</th>\n",
       "      <th>Loan_Amount_Term</th>\n",
       "      <th>Credit_History</th>\n",
       "      <th>Property_Area</th>\n",
       "      <th>Loan_Status</th>\n",
       "    </tr>\n",
       "  </thead>\n",
       "  <tbody>\n",
       "    <tr>\n",
       "      <th>0</th>\n",
       "      <td>Yes</td>\n",
       "      <td>Graduate</td>\n",
       "      <td>4583</td>\n",
       "      <td>1508.0</td>\n",
       "      <td>128.0</td>\n",
       "      <td>360.0</td>\n",
       "      <td>1.0</td>\n",
       "      <td>Rural</td>\n",
       "      <td>N</td>\n",
       "    </tr>\n",
       "    <tr>\n",
       "      <th>1</th>\n",
       "      <td>Yes</td>\n",
       "      <td>Graduate</td>\n",
       "      <td>3000</td>\n",
       "      <td>0.0</td>\n",
       "      <td>66.0</td>\n",
       "      <td>360.0</td>\n",
       "      <td>1.0</td>\n",
       "      <td>Urban</td>\n",
       "      <td>Y</td>\n",
       "    </tr>\n",
       "    <tr>\n",
       "      <th>2</th>\n",
       "      <td>Yes</td>\n",
       "      <td>Not Graduate</td>\n",
       "      <td>2583</td>\n",
       "      <td>2358.0</td>\n",
       "      <td>120.0</td>\n",
       "      <td>360.0</td>\n",
       "      <td>1.0</td>\n",
       "      <td>Urban</td>\n",
       "      <td>Y</td>\n",
       "    </tr>\n",
       "    <tr>\n",
       "      <th>3</th>\n",
       "      <td>No</td>\n",
       "      <td>Graduate</td>\n",
       "      <td>6000</td>\n",
       "      <td>0.0</td>\n",
       "      <td>141.0</td>\n",
       "      <td>360.0</td>\n",
       "      <td>1.0</td>\n",
       "      <td>Urban</td>\n",
       "      <td>Y</td>\n",
       "    </tr>\n",
       "    <tr>\n",
       "      <th>4</th>\n",
       "      <td>Yes</td>\n",
       "      <td>Graduate</td>\n",
       "      <td>5417</td>\n",
       "      <td>4196.0</td>\n",
       "      <td>267.0</td>\n",
       "      <td>360.0</td>\n",
       "      <td>1.0</td>\n",
       "      <td>Urban</td>\n",
       "      <td>Y</td>\n",
       "    </tr>\n",
       "    <tr>\n",
       "      <th>...</th>\n",
       "      <td>...</td>\n",
       "      <td>...</td>\n",
       "      <td>...</td>\n",
       "      <td>...</td>\n",
       "      <td>...</td>\n",
       "      <td>...</td>\n",
       "      <td>...</td>\n",
       "      <td>...</td>\n",
       "      <td>...</td>\n",
       "    </tr>\n",
       "    <tr>\n",
       "      <th>475</th>\n",
       "      <td>No</td>\n",
       "      <td>Graduate</td>\n",
       "      <td>2900</td>\n",
       "      <td>0.0</td>\n",
       "      <td>71.0</td>\n",
       "      <td>360.0</td>\n",
       "      <td>1.0</td>\n",
       "      <td>Rural</td>\n",
       "      <td>Y</td>\n",
       "    </tr>\n",
       "    <tr>\n",
       "      <th>476</th>\n",
       "      <td>Yes</td>\n",
       "      <td>Graduate</td>\n",
       "      <td>4106</td>\n",
       "      <td>0.0</td>\n",
       "      <td>40.0</td>\n",
       "      <td>180.0</td>\n",
       "      <td>1.0</td>\n",
       "      <td>Rural</td>\n",
       "      <td>Y</td>\n",
       "    </tr>\n",
       "    <tr>\n",
       "      <th>477</th>\n",
       "      <td>Yes</td>\n",
       "      <td>Graduate</td>\n",
       "      <td>8072</td>\n",
       "      <td>240.0</td>\n",
       "      <td>253.0</td>\n",
       "      <td>360.0</td>\n",
       "      <td>1.0</td>\n",
       "      <td>Urban</td>\n",
       "      <td>Y</td>\n",
       "    </tr>\n",
       "    <tr>\n",
       "      <th>478</th>\n",
       "      <td>Yes</td>\n",
       "      <td>Graduate</td>\n",
       "      <td>7583</td>\n",
       "      <td>0.0</td>\n",
       "      <td>187.0</td>\n",
       "      <td>360.0</td>\n",
       "      <td>1.0</td>\n",
       "      <td>Urban</td>\n",
       "      <td>Y</td>\n",
       "    </tr>\n",
       "    <tr>\n",
       "      <th>479</th>\n",
       "      <td>No</td>\n",
       "      <td>Graduate</td>\n",
       "      <td>4583</td>\n",
       "      <td>0.0</td>\n",
       "      <td>133.0</td>\n",
       "      <td>360.0</td>\n",
       "      <td>0.0</td>\n",
       "      <td>Semiurban</td>\n",
       "      <td>N</td>\n",
       "    </tr>\n",
       "  </tbody>\n",
       "</table>\n",
       "<p>480 rows × 9 columns</p>\n",
       "</div>"
      ],
      "text/plain": [
       "    Married     Education  ApplicantIncome  CoapplicantIncome  LoanAmount  \\\n",
       "0       Yes      Graduate             4583             1508.0       128.0   \n",
       "1       Yes      Graduate             3000                0.0        66.0   \n",
       "2       Yes  Not Graduate             2583             2358.0       120.0   \n",
       "3        No      Graduate             6000                0.0       141.0   \n",
       "4       Yes      Graduate             5417             4196.0       267.0   \n",
       "..      ...           ...              ...                ...         ...   \n",
       "475      No      Graduate             2900                0.0        71.0   \n",
       "476     Yes      Graduate             4106                0.0        40.0   \n",
       "477     Yes      Graduate             8072              240.0       253.0   \n",
       "478     Yes      Graduate             7583                0.0       187.0   \n",
       "479      No      Graduate             4583                0.0       133.0   \n",
       "\n",
       "     Loan_Amount_Term Credit_History Property_Area Loan_Status  \n",
       "0               360.0            1.0         Rural           N  \n",
       "1               360.0            1.0         Urban           Y  \n",
       "2               360.0            1.0         Urban           Y  \n",
       "3               360.0            1.0         Urban           Y  \n",
       "4               360.0            1.0         Urban           Y  \n",
       "..                ...            ...           ...         ...  \n",
       "475             360.0            1.0         Rural           Y  \n",
       "476             180.0            1.0         Rural           Y  \n",
       "477             360.0            1.0         Urban           Y  \n",
       "478             360.0            1.0         Urban           Y  \n",
       "479             360.0            0.0     Semiurban           N  \n",
       "\n",
       "[480 rows x 9 columns]"
      ]
     },
     "execution_count": 19,
     "metadata": {},
     "output_type": "execute_result"
    }
   ],
   "source": [
    "df.drop(['Loan_ID','Gender','Dependents','Self_Employed'],axis=1,inplace=True)\n",
    "data = df\n",
    "data = data.reset_index(drop=True)\n",
    "data\n"
   ]
  },
  {
   "cell_type": "code",
   "execution_count": null,
   "id": "b706c07e",
   "metadata": {},
   "outputs": [],
   "source": [
    "data"
   ]
  },
  {
   "cell_type": "code",
   "execution_count": 20,
   "id": "380ba9db",
   "metadata": {},
   "outputs": [
    {
     "data": {
      "text/html": [
       "<div>\n",
       "<style scoped>\n",
       "    .dataframe tbody tr th:only-of-type {\n",
       "        vertical-align: middle;\n",
       "    }\n",
       "\n",
       "    .dataframe tbody tr th {\n",
       "        vertical-align: top;\n",
       "    }\n",
       "\n",
       "    .dataframe thead th {\n",
       "        text-align: right;\n",
       "    }\n",
       "</style>\n",
       "<table border=\"1\" class=\"dataframe\">\n",
       "  <thead>\n",
       "    <tr style=\"text-align: right;\">\n",
       "      <th></th>\n",
       "      <th>Married</th>\n",
       "      <th>Education</th>\n",
       "      <th>ApplicantIncome</th>\n",
       "      <th>CoapplicantIncome</th>\n",
       "      <th>LoanAmount</th>\n",
       "      <th>Loan_Amount_Term</th>\n",
       "      <th>Credit_History</th>\n",
       "      <th>Property_Area</th>\n",
       "      <th>Loan_Status</th>\n",
       "    </tr>\n",
       "  </thead>\n",
       "  <tbody>\n",
       "    <tr>\n",
       "      <th>0</th>\n",
       "      <td>1</td>\n",
       "      <td>0</td>\n",
       "      <td>4583</td>\n",
       "      <td>1508.0</td>\n",
       "      <td>128.0</td>\n",
       "      <td>360.0</td>\n",
       "      <td>1</td>\n",
       "      <td>0</td>\n",
       "      <td>0</td>\n",
       "    </tr>\n",
       "    <tr>\n",
       "      <th>1</th>\n",
       "      <td>1</td>\n",
       "      <td>0</td>\n",
       "      <td>3000</td>\n",
       "      <td>0.0</td>\n",
       "      <td>66.0</td>\n",
       "      <td>360.0</td>\n",
       "      <td>1</td>\n",
       "      <td>2</td>\n",
       "      <td>1</td>\n",
       "    </tr>\n",
       "    <tr>\n",
       "      <th>2</th>\n",
       "      <td>1</td>\n",
       "      <td>1</td>\n",
       "      <td>2583</td>\n",
       "      <td>2358.0</td>\n",
       "      <td>120.0</td>\n",
       "      <td>360.0</td>\n",
       "      <td>1</td>\n",
       "      <td>2</td>\n",
       "      <td>1</td>\n",
       "    </tr>\n",
       "    <tr>\n",
       "      <th>3</th>\n",
       "      <td>0</td>\n",
       "      <td>0</td>\n",
       "      <td>6000</td>\n",
       "      <td>0.0</td>\n",
       "      <td>141.0</td>\n",
       "      <td>360.0</td>\n",
       "      <td>1</td>\n",
       "      <td>2</td>\n",
       "      <td>1</td>\n",
       "    </tr>\n",
       "    <tr>\n",
       "      <th>4</th>\n",
       "      <td>1</td>\n",
       "      <td>0</td>\n",
       "      <td>5417</td>\n",
       "      <td>4196.0</td>\n",
       "      <td>267.0</td>\n",
       "      <td>360.0</td>\n",
       "      <td>1</td>\n",
       "      <td>2</td>\n",
       "      <td>1</td>\n",
       "    </tr>\n",
       "    <tr>\n",
       "      <th>...</th>\n",
       "      <td>...</td>\n",
       "      <td>...</td>\n",
       "      <td>...</td>\n",
       "      <td>...</td>\n",
       "      <td>...</td>\n",
       "      <td>...</td>\n",
       "      <td>...</td>\n",
       "      <td>...</td>\n",
       "      <td>...</td>\n",
       "    </tr>\n",
       "    <tr>\n",
       "      <th>475</th>\n",
       "      <td>0</td>\n",
       "      <td>0</td>\n",
       "      <td>2900</td>\n",
       "      <td>0.0</td>\n",
       "      <td>71.0</td>\n",
       "      <td>360.0</td>\n",
       "      <td>1</td>\n",
       "      <td>0</td>\n",
       "      <td>1</td>\n",
       "    </tr>\n",
       "    <tr>\n",
       "      <th>476</th>\n",
       "      <td>1</td>\n",
       "      <td>0</td>\n",
       "      <td>4106</td>\n",
       "      <td>0.0</td>\n",
       "      <td>40.0</td>\n",
       "      <td>180.0</td>\n",
       "      <td>1</td>\n",
       "      <td>0</td>\n",
       "      <td>1</td>\n",
       "    </tr>\n",
       "    <tr>\n",
       "      <th>477</th>\n",
       "      <td>1</td>\n",
       "      <td>0</td>\n",
       "      <td>8072</td>\n",
       "      <td>240.0</td>\n",
       "      <td>253.0</td>\n",
       "      <td>360.0</td>\n",
       "      <td>1</td>\n",
       "      <td>2</td>\n",
       "      <td>1</td>\n",
       "    </tr>\n",
       "    <tr>\n",
       "      <th>478</th>\n",
       "      <td>1</td>\n",
       "      <td>0</td>\n",
       "      <td>7583</td>\n",
       "      <td>0.0</td>\n",
       "      <td>187.0</td>\n",
       "      <td>360.0</td>\n",
       "      <td>1</td>\n",
       "      <td>2</td>\n",
       "      <td>1</td>\n",
       "    </tr>\n",
       "    <tr>\n",
       "      <th>479</th>\n",
       "      <td>0</td>\n",
       "      <td>0</td>\n",
       "      <td>4583</td>\n",
       "      <td>0.0</td>\n",
       "      <td>133.0</td>\n",
       "      <td>360.0</td>\n",
       "      <td>0</td>\n",
       "      <td>1</td>\n",
       "      <td>0</td>\n",
       "    </tr>\n",
       "  </tbody>\n",
       "</table>\n",
       "<p>480 rows × 9 columns</p>\n",
       "</div>"
      ],
      "text/plain": [
       "     Married  Education  ApplicantIncome  CoapplicantIncome  LoanAmount  \\\n",
       "0          1          0             4583             1508.0       128.0   \n",
       "1          1          0             3000                0.0        66.0   \n",
       "2          1          1             2583             2358.0       120.0   \n",
       "3          0          0             6000                0.0       141.0   \n",
       "4          1          0             5417             4196.0       267.0   \n",
       "..       ...        ...              ...                ...         ...   \n",
       "475        0          0             2900                0.0        71.0   \n",
       "476        1          0             4106                0.0        40.0   \n",
       "477        1          0             8072              240.0       253.0   \n",
       "478        1          0             7583                0.0       187.0   \n",
       "479        0          0             4583                0.0       133.0   \n",
       "\n",
       "     Loan_Amount_Term  Credit_History  Property_Area  Loan_Status  \n",
       "0               360.0               1              0            0  \n",
       "1               360.0               1              2            1  \n",
       "2               360.0               1              2            1  \n",
       "3               360.0               1              2            1  \n",
       "4               360.0               1              2            1  \n",
       "..                ...             ...            ...          ...  \n",
       "475             360.0               1              0            1  \n",
       "476             180.0               1              0            1  \n",
       "477             360.0               1              2            1  \n",
       "478             360.0               1              2            1  \n",
       "479             360.0               0              1            0  \n",
       "\n",
       "[480 rows x 9 columns]"
      ]
     },
     "execution_count": 20,
     "metadata": {},
     "output_type": "execute_result"
    }
   ],
   "source": [
    "from sklearn.preprocessing import LabelEncoder  \n",
    "## sometimes better to use map rather than labelencoder because\n",
    "le = LabelEncoder()\n",
    "#data.Gender = le.fit_transform(data.Gender)\n",
    "data.Married = le.fit_transform(data.Married)\n",
    "#data.Dependents = le.fit_transform(data.Dependents)\n",
    "data.Education = le.fit_transform(data.Education)\n",
    "#data.Self_Employed = le.fit_transform(data.Self_Employed)\n",
    "data.Credit_History = le.fit_transform(data.Credit_History)\n",
    "data.Property_Area = le.fit_transform(data.Property_Area)\n",
    "data.Loan_Status = le.fit_transform(data.Loan_Status)\n",
    "data"
   ]
  },
  {
   "cell_type": "code",
   "execution_count": 21,
   "id": "765cd69b",
   "metadata": {},
   "outputs": [
    {
     "data": {
      "text/html": [
       "<div>\n",
       "<style scoped>\n",
       "    .dataframe tbody tr th:only-of-type {\n",
       "        vertical-align: middle;\n",
       "    }\n",
       "\n",
       "    .dataframe tbody tr th {\n",
       "        vertical-align: top;\n",
       "    }\n",
       "\n",
       "    .dataframe thead th {\n",
       "        text-align: right;\n",
       "    }\n",
       "</style>\n",
       "<table border=\"1\" class=\"dataframe\">\n",
       "  <thead>\n",
       "    <tr style=\"text-align: right;\">\n",
       "      <th></th>\n",
       "      <th>Married</th>\n",
       "      <th>Education</th>\n",
       "      <th>ApplicantIncome</th>\n",
       "      <th>CoapplicantIncome</th>\n",
       "      <th>LoanAmount</th>\n",
       "      <th>Loan_Amount_Term</th>\n",
       "      <th>Credit_History</th>\n",
       "      <th>Property_Area</th>\n",
       "      <th>Loan_Status</th>\n",
       "    </tr>\n",
       "  </thead>\n",
       "  <tbody>\n",
       "    <tr>\n",
       "      <th>count</th>\n",
       "      <td>480.000000</td>\n",
       "      <td>480.000000</td>\n",
       "      <td>480.000000</td>\n",
       "      <td>480.000000</td>\n",
       "      <td>480.000000</td>\n",
       "      <td>480.000000</td>\n",
       "      <td>480.000000</td>\n",
       "      <td>480.000000</td>\n",
       "      <td>480.000000</td>\n",
       "    </tr>\n",
       "    <tr>\n",
       "      <th>mean</th>\n",
       "      <td>0.647917</td>\n",
       "      <td>0.202083</td>\n",
       "      <td>5364.231250</td>\n",
       "      <td>1581.093583</td>\n",
       "      <td>144.735417</td>\n",
       "      <td>342.050000</td>\n",
       "      <td>0.854167</td>\n",
       "      <td>1.022917</td>\n",
       "      <td>0.691667</td>\n",
       "    </tr>\n",
       "    <tr>\n",
       "      <th>std</th>\n",
       "      <td>0.478118</td>\n",
       "      <td>0.401973</td>\n",
       "      <td>5668.251251</td>\n",
       "      <td>2617.692267</td>\n",
       "      <td>80.508164</td>\n",
       "      <td>65.212401</td>\n",
       "      <td>0.353307</td>\n",
       "      <td>0.776411</td>\n",
       "      <td>0.462287</td>\n",
       "    </tr>\n",
       "    <tr>\n",
       "      <th>min</th>\n",
       "      <td>0.000000</td>\n",
       "      <td>0.000000</td>\n",
       "      <td>150.000000</td>\n",
       "      <td>0.000000</td>\n",
       "      <td>9.000000</td>\n",
       "      <td>36.000000</td>\n",
       "      <td>0.000000</td>\n",
       "      <td>0.000000</td>\n",
       "      <td>0.000000</td>\n",
       "    </tr>\n",
       "    <tr>\n",
       "      <th>25%</th>\n",
       "      <td>0.000000</td>\n",
       "      <td>0.000000</td>\n",
       "      <td>2898.750000</td>\n",
       "      <td>0.000000</td>\n",
       "      <td>100.000000</td>\n",
       "      <td>360.000000</td>\n",
       "      <td>1.000000</td>\n",
       "      <td>0.000000</td>\n",
       "      <td>0.000000</td>\n",
       "    </tr>\n",
       "    <tr>\n",
       "      <th>50%</th>\n",
       "      <td>1.000000</td>\n",
       "      <td>0.000000</td>\n",
       "      <td>3859.000000</td>\n",
       "      <td>1084.500000</td>\n",
       "      <td>128.000000</td>\n",
       "      <td>360.000000</td>\n",
       "      <td>1.000000</td>\n",
       "      <td>1.000000</td>\n",
       "      <td>1.000000</td>\n",
       "    </tr>\n",
       "    <tr>\n",
       "      <th>75%</th>\n",
       "      <td>1.000000</td>\n",
       "      <td>0.000000</td>\n",
       "      <td>5852.500000</td>\n",
       "      <td>2253.250000</td>\n",
       "      <td>170.000000</td>\n",
       "      <td>360.000000</td>\n",
       "      <td>1.000000</td>\n",
       "      <td>2.000000</td>\n",
       "      <td>1.000000</td>\n",
       "    </tr>\n",
       "    <tr>\n",
       "      <th>max</th>\n",
       "      <td>1.000000</td>\n",
       "      <td>1.000000</td>\n",
       "      <td>81000.000000</td>\n",
       "      <td>33837.000000</td>\n",
       "      <td>600.000000</td>\n",
       "      <td>480.000000</td>\n",
       "      <td>1.000000</td>\n",
       "      <td>2.000000</td>\n",
       "      <td>1.000000</td>\n",
       "    </tr>\n",
       "  </tbody>\n",
       "</table>\n",
       "</div>"
      ],
      "text/plain": [
       "          Married   Education  ApplicantIncome  CoapplicantIncome  LoanAmount  \\\n",
       "count  480.000000  480.000000       480.000000         480.000000  480.000000   \n",
       "mean     0.647917    0.202083      5364.231250        1581.093583  144.735417   \n",
       "std      0.478118    0.401973      5668.251251        2617.692267   80.508164   \n",
       "min      0.000000    0.000000       150.000000           0.000000    9.000000   \n",
       "25%      0.000000    0.000000      2898.750000           0.000000  100.000000   \n",
       "50%      1.000000    0.000000      3859.000000        1084.500000  128.000000   \n",
       "75%      1.000000    0.000000      5852.500000        2253.250000  170.000000   \n",
       "max      1.000000    1.000000     81000.000000       33837.000000  600.000000   \n",
       "\n",
       "       Loan_Amount_Term  Credit_History  Property_Area  Loan_Status  \n",
       "count        480.000000      480.000000     480.000000   480.000000  \n",
       "mean         342.050000        0.854167       1.022917     0.691667  \n",
       "std           65.212401        0.353307       0.776411     0.462287  \n",
       "min           36.000000        0.000000       0.000000     0.000000  \n",
       "25%          360.000000        1.000000       0.000000     0.000000  \n",
       "50%          360.000000        1.000000       1.000000     1.000000  \n",
       "75%          360.000000        1.000000       2.000000     1.000000  \n",
       "max          480.000000        1.000000       2.000000     1.000000  "
      ]
     },
     "execution_count": 21,
     "metadata": {},
     "output_type": "execute_result"
    }
   ],
   "source": [
    "data.describe()"
   ]
  },
  {
   "cell_type": "code",
   "execution_count": 22,
   "id": "009ee041",
   "metadata": {},
   "outputs": [
    {
     "name": "stdout",
     "output_type": "stream",
     "text": [
      "<class 'pandas.core.frame.DataFrame'>\n",
      "RangeIndex: 480 entries, 0 to 479\n",
      "Data columns (total 9 columns):\n",
      " #   Column             Non-Null Count  Dtype  \n",
      "---  ------             --------------  -----  \n",
      " 0   Married            480 non-null    int32  \n",
      " 1   Education          480 non-null    int32  \n",
      " 2   ApplicantIncome    480 non-null    int64  \n",
      " 3   CoapplicantIncome  480 non-null    float64\n",
      " 4   LoanAmount         480 non-null    float64\n",
      " 5   Loan_Amount_Term   480 non-null    float64\n",
      " 6   Credit_History     480 non-null    int32  \n",
      " 7   Property_Area      480 non-null    int32  \n",
      " 8   Loan_Status        480 non-null    int32  \n",
      "dtypes: float64(3), int32(5), int64(1)\n",
      "memory usage: 24.5 KB\n"
     ]
    },
    {
     "data": {
      "text/plain": [
       "array([0, 1])"
      ]
     },
     "execution_count": 22,
     "metadata": {},
     "output_type": "execute_result"
    }
   ],
   "source": [
    "data.info()\n",
    "data.Loan_Status.unique()"
   ]
  },
  {
   "cell_type": "code",
   "execution_count": 23,
   "id": "8152210e",
   "metadata": {},
   "outputs": [],
   "source": [
    "X = data.drop('Loan_Status',axis=1)\n",
    "#X = data.drop(['Loan_Status','CH_text'],axis=1)\n",
    "y = data.Loan_Status"
   ]
  },
  {
   "cell_type": "markdown",
   "id": "362674ba",
   "metadata": {},
   "source": [
    "#### LEts prepare the model \n",
    "#### split data into test train"
   ]
  },
  {
   "cell_type": "code",
   "execution_count": 24,
   "id": "f65d7568",
   "metadata": {},
   "outputs": [
    {
     "name": "stdout",
     "output_type": "stream",
     "text": [
      "X_train shape (384, 8)\n",
      "y_train shape (384,)\n",
      "X_test shape (96, 8)\n",
      "y_test shape (96,)\n",
      "\n",
      "ratio of target in y_train : [0.69270833 0.30729167]\n",
      "ratio of target in y_test : [0.6875 0.3125]\n",
      "ratio of target in original_data : [0.69166667 0.30833333]\n"
     ]
    }
   ],
   "source": [
    "# we will use StratifiedShuffleSplit to split the data Taking into consideration that we will get the same ratio on the target column\n",
    "# StratifiedShuffleSplit will split the data in the same ratio it existed in originaldf.\n",
    "\n",
    "from sklearn.model_selection import StratifiedShuffleSplit\n",
    "\n",
    "sss = StratifiedShuffleSplit(n_splits=1, test_size=0.2, random_state=42)\n",
    "\n",
    "for train, test in sss.split(X, y):\n",
    "    X_train, X_test = X.iloc[train], X.iloc[test]\n",
    "    y_train, y_test = y.iloc[train], y.iloc[test]\n",
    "    \n",
    "print('X_train shape', X_train.shape)\n",
    "print('y_train shape', y_train.shape)\n",
    "print('X_test shape', X_test.shape)\n",
    "print('y_test shape', y_test.shape)\n",
    "\n",
    "# almost same ratio\n",
    "print('\\nratio of target in y_train :',y_train.value_counts().values/ len(y_train))\n",
    "print('ratio of target in y_test :',y_test.value_counts().values/ len(y_test))\n",
    "print('ratio of target in original_data :',df['Loan_Status'].value_counts().values/ len(df))\n",
    "\n",
    "\n",
    "# ###  simple \n",
    "# from sklearn.model_selection import train_test_split # you can use simple splitting\n",
    "# X_train, X_test, y_train, y_test = train_test_split(X, y, test_size = 0.3, random_state = 0)\n",
    "# # almost same ratio\n",
    "# print('\\nratio of target in y_train :',y_train.value_counts().values/ len(y_train))\n",
    "# print('ratio of target in y_test :',y_test.value_counts().values/ len(y_test))\n",
    "# print('ratio of target in original_data :',df['Loan_Status'].value_counts().values/ len(df))"
   ]
  },
  {
   "cell_type": "code",
   "execution_count": null,
   "id": "9063d6d8",
   "metadata": {},
   "outputs": [],
   "source": [
    "X_test "
   ]
  },
  {
   "cell_type": "code",
   "execution_count": 25,
   "id": "7192a660",
   "metadata": {},
   "outputs": [],
   "source": [
    "# #ML models\n",
    "\n",
    "from sklearn.linear_model import LogisticRegression\n",
    "from sklearn.neighbors import KNeighborsClassifier\n",
    "# from sklearn.svm import SVC\n",
    "from sklearn.tree import DecisionTreeClassifier\n",
    "from sklearn.ensemble import RandomForestClassifier\n",
    "from xgboost import XGBClassifier\n",
    "\n",
    "\n",
    "#relevant ML librariesv To evaluate our model \n",
    "from sklearn.metrics import classification_report\n",
    "from sklearn.metrics import accuracy_score\n"
   ]
  },
  {
   "cell_type": "code",
   "execution_count": 26,
   "id": "54ba05fc",
   "metadata": {},
   "outputs": [
    {
     "name": "stdout",
     "output_type": "stream",
     "text": [
      "              precision    recall  f1-score   support\n",
      "\n",
      "           0       0.85      0.57      0.68        30\n",
      "           1       0.83      0.95      0.89        66\n",
      "\n",
      "    accuracy                           0.83        96\n",
      "   macro avg       0.84      0.76      0.78        96\n",
      "weighted avg       0.84      0.83      0.82        96\n",
      "\n",
      "83.33% Accurate\n"
     ]
    }
   ],
   "source": [
    "LR = LogisticRegression()\n",
    "LR.fit(X_train, y_train)\n",
    "\n",
    "y_predict = LR.predict(X_test)\n",
    "\n",
    "#  prediction Summary by species\n",
    "print(classification_report(y_test, y_predict))\n",
    "\n",
    "# Accuracy score\n",
    "print(f\"{round(accuracy_score(y_predict,y_test)*100,2)}% Accurate\")"
   ]
  },
  {
   "cell_type": "code",
   "execution_count": 27,
   "id": "f3693a12",
   "metadata": {},
   "outputs": [
    {
     "name": "stdout",
     "output_type": "stream",
     "text": [
      "              precision    recall  f1-score   support\n",
      "\n",
      "           0       0.32      0.20      0.24        30\n",
      "           1       0.69      0.80      0.74        66\n",
      "\n",
      "    accuracy                           0.61        96\n",
      "   macro avg       0.50      0.50      0.49        96\n",
      "weighted avg       0.57      0.61      0.59        96\n",
      "\n",
      "61.46% Accurate\n"
     ]
    }
   ],
   "source": [
    "KNN = KNeighborsClassifier()\n",
    "KNN.fit(X_train, y_train)\n",
    "\n",
    "y_predict = KNN.predict(X_test)\n",
    "\n",
    "#  prediction Summary by species\n",
    "print(classification_report(y_test, y_predict))\n",
    "\n",
    "# Accuracy score\n",
    "print(f\"{round(accuracy_score(y_predict,y_test)*100,2)}% Accurate\")"
   ]
  },
  {
   "cell_type": "code",
   "execution_count": 28,
   "id": "f446235e",
   "metadata": {},
   "outputs": [
    {
     "name": "stdout",
     "output_type": "stream",
     "text": [
      "              precision    recall  f1-score   support\n",
      "\n",
      "           0       0.59      0.67      0.62        30\n",
      "           1       0.84      0.79      0.81        66\n",
      "\n",
      "    accuracy                           0.75        96\n",
      "   macro avg       0.71      0.73      0.72        96\n",
      "weighted avg       0.76      0.75      0.75        96\n",
      "\n",
      "75.0% Accurate\n"
     ]
    }
   ],
   "source": [
    "DT = DecisionTreeClassifier(random_state=0)\n",
    "DT.fit(X_train, y_train)\n",
    "\n",
    "y_predict = DT.predict(X_test)\n",
    "\n",
    "#  prediction Summary by species\n",
    "print(classification_report(y_test, y_predict))\n",
    "\n",
    "# Accuracy score\n",
    "print(f\"{round(accuracy_score(y_predict,y_test)*100,2)}% Accurate\")"
   ]
  },
  {
   "cell_type": "code",
   "execution_count": 29,
   "id": "7a9cc6a4",
   "metadata": {},
   "outputs": [
    {
     "name": "stdout",
     "output_type": "stream",
     "text": [
      "              precision    recall  f1-score   support\n",
      "\n",
      "           0       0.70      0.70      0.70        30\n",
      "           1       0.86      0.86      0.86        66\n",
      "\n",
      "    accuracy                           0.81        96\n",
      "   macro avg       0.78      0.78      0.78        96\n",
      "weighted avg       0.81      0.81      0.81        96\n",
      "\n",
      "81.25% Accurate\n"
     ]
    }
   ],
   "source": [
    "RF = RandomForestClassifier(random_state = 0)\n",
    "RF.fit(X_train, y_train)\n",
    "\n",
    "y_predict = RF.predict(X_test)\n",
    "\n",
    "#  prediction Summary by species\n",
    "print(classification_report(y_test, y_predict))\n",
    "\n",
    "# Accuracy score\n",
    "RF_SC = accuracy_score(y_predict,y_test)\n",
    "print(f\"{round(RF_SC*100,2)}% Accurate\")"
   ]
  },
  {
   "cell_type": "code",
   "execution_count": 30,
   "id": "31e9e7e9",
   "metadata": {},
   "outputs": [
    {
     "name": "stdout",
     "output_type": "stream",
     "text": [
      "              precision    recall  f1-score   support\n",
      "\n",
      "           0       0.59      0.67      0.62        30\n",
      "           1       0.84      0.79      0.81        66\n",
      "\n",
      "    accuracy                           0.75        96\n",
      "   macro avg       0.71      0.73      0.72        96\n",
      "weighted avg       0.76      0.75      0.75        96\n",
      "\n",
      "75.0% Accurate\n"
     ]
    }
   ],
   "source": [
    "XGB = XGBClassifier()\n",
    "XGB.fit(X_train, y_train)\n",
    "\n",
    "y_predict = XGB.predict(X_test)\n",
    "\n",
    "#  prediction Summary by species\n",
    "print(classification_report(y_test, y_predict))\n",
    "\n",
    "# Accuracy score\n",
    "XGB_SC = accuracy_score(y_predict,y_test)\n",
    "print(f\"{round(XGB_SC*100,2)}% Accurate\")"
   ]
  },
  {
   "cell_type": "code",
   "execution_count": 33,
   "id": "f7cef652",
   "metadata": {},
   "outputs": [
    {
     "name": "stdout",
     "output_type": "stream",
     "text": [
      "XGB 0.75625\n",
      "RF 0.76875\n",
      "DT 0.7020833333333333\n",
      "KNN 0.6375\n",
      "LR 0.7666666666666668\n"
     ]
    }
   ],
   "source": [
    "from sklearn.model_selection import ShuffleSplit\n",
    "cv = ShuffleSplit(n_splits=5, test_size=0.2, random_state=0)\n",
    "from sklearn.model_selection import cross_val_score\n",
    "\n",
    "Accuracy_XGB = (cross_val_score(XGBClassifier(), X, y, cv=cv)).mean()\n",
    "Accuracy_RF = (cross_val_score(RandomForestClassifier(), X, y, cv=cv)).mean()\n",
    "Accuracy_DT = (cross_val_score(DecisionTreeClassifier(), X, y, cv=cv)).mean()\n",
    "Accuracy_KNN = (cross_val_score(KNeighborsClassifier(), X, y, cv=cv)).mean()\n",
    "Accuracy_LR = (cross_val_score(LogisticRegression(), X, y, cv=cv)).mean()\n",
    "\n",
    "print (\"XGB\",Accuracy_XGB)\n",
    "print (\"RF\",Accuracy_RF)\n",
    "print (\"DT\",Accuracy_DT)\n",
    "print (\"KNN\",Accuracy_KNN)\n",
    "print (\"LR\",Accuracy_LR)\n"
   ]
  },
  {
   "cell_type": "markdown",
   "id": "ee6ed5b3",
   "metadata": {},
   "source": [
    "# Model Deployment\n",
    "\n",
    "1. First we will have to export models using pickle\n",
    "2. Build streamlit app - the code will be in clustering_streamlit_app.py\n",
    "3. Learn how to deploy the app on the heroku server - references\n",
    "\n",
    "Link to app -"
   ]
  },
  {
   "cell_type": "code",
   "execution_count": null,
   "id": "e6a2eaba",
   "metadata": {},
   "outputs": [],
   "source": [
    "import pickle\n",
    "\n",
    "pickle.dump(XGB, open('xgb.pkl', 'wb'))\n",
    "pickle.dump(RF, open('RF.pkl', 'wb'))\n",
    "pickle.dump(LR, open('LR.pkl', 'wb'))\n"
   ]
  },
  {
   "cell_type": "code",
   "execution_count": null,
   "id": "74e0138b",
   "metadata": {},
   "outputs": [],
   "source": [
    "LR_model = pickle.load(open('LR.pkl', 'rb'))"
   ]
  },
  {
   "cell_type": "code",
   "execution_count": null,
   "id": "c54b7e9e",
   "metadata": {},
   "outputs": [],
   "source": [
    "XGB_model = pickle.load(open('xgb.pkl', 'rb'))\n"
   ]
  },
  {
   "cell_type": "code",
   "execution_count": null,
   "id": "748b62c1",
   "metadata": {},
   "outputs": [],
   "source": [
    "XGB_model.predict(X_test)"
   ]
  },
  {
   "cell_type": "code",
   "execution_count": null,
   "id": "99ba79e5",
   "metadata": {},
   "outputs": [],
   "source": [
    "a = np.array([1,0,3089,1280,121,360,0,2])\n",
    "a = np.expand_dims(a, 0)\n",
    "XGB_model.predict(a)"
   ]
  },
  {
   "cell_type": "code",
   "execution_count": null,
   "id": "b34dad08",
   "metadata": {},
   "outputs": [],
   "source": [
    "XGB_model.predict(a)[0]\n"
   ]
  },
  {
   "cell_type": "code",
   "execution_count": null,
   "id": "26e3ee53",
   "metadata": {},
   "outputs": [],
   "source": [
    "X_test.iloc[1]"
   ]
  },
  {
   "cell_type": "code",
   "execution_count": null,
   "id": "e2effcaa",
   "metadata": {},
   "outputs": [],
   "source": [
    "df.iloc[420]\n",
    "# Married - Yes - 1\n",
    "# Education - Not Graduate - 1\n",
    "# Property  - Semiurban - 1 , urban 2\n"
   ]
  },
  {
   "cell_type": "code",
   "execution_count": null,
   "id": "27dfdbad",
   "metadata": {},
   "outputs": [],
   "source": [
    "y_test"
   ]
  },
  {
   "cell_type": "code",
   "execution_count": null,
   "id": "6afd0e4e",
   "metadata": {},
   "outputs": [],
   "source": [
    "Applicant monthly income - 5200, credit history no"
   ]
  }
 ],
 "metadata": {
  "kernelspec": {
   "display_name": "Python 3 (ipykernel)",
   "language": "python",
   "name": "python3"
  },
  "language_info": {
   "codemirror_mode": {
    "name": "ipython",
    "version": 3
   },
   "file_extension": ".py",
   "mimetype": "text/x-python",
   "name": "python",
   "nbconvert_exporter": "python",
   "pygments_lexer": "ipython3",
   "version": "3.9.13"
  }
 },
 "nbformat": 4,
 "nbformat_minor": 5
}
